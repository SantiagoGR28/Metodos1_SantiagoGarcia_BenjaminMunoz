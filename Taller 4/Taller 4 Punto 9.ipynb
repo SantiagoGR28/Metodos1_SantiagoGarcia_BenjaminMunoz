{
 "cells": [
  {
   "cell_type": "code",
   "execution_count": 1,
   "metadata": {},
   "outputs": [],
   "source": [
    "import numpy as np\n",
    "import matplotlib.pyplot as plt"
   ]
  },
  {
   "cell_type": "code",
   "execution_count": 33,
   "metadata": {},
   "outputs": [
    {
     "name": "stdout",
     "output_type": "stream",
     "text": [
      "3.553497026868201\n"
     ]
    }
   ],
   "source": [
    "a=0\n",
    "b=1\n",
    "N=10000\n",
    "xrand=np.random.uniform(a,b,N)\n",
    "\n",
    "def funcion(x):\n",
    "    suma=0\n",
    "    for i in range(0,7):\n",
    "        suma+=xrand[i]\n",
    "    return (2**(-7))*(suma**2)\n",
    "\n",
    "integral=0\n",
    "resultado=0\n",
    "for j in range (0,8):\n",
    "    for i in range(N):\n",
    "        integral+=funcion(xrand[i])\n",
    "    resultado+=integral*(b-a)/N\n",
    "\n",
    "print(resultado)\n"
   ]
  },
  {
   "cell_type": "code",
   "execution_count": null,
   "metadata": {},
   "outputs": [],
   "source": []
  },
  {
   "cell_type": "code",
   "execution_count": null,
   "metadata": {},
   "outputs": [],
   "source": []
  }
 ],
 "metadata": {
  "kernelspec": {
   "display_name": "Python 3",
   "language": "python",
   "name": "python3"
  },
  "language_info": {
   "codemirror_mode": {
    "name": "ipython",
    "version": 3
   },
   "file_extension": ".py",
   "mimetype": "text/x-python",
   "name": "python",
   "nbconvert_exporter": "python",
   "pygments_lexer": "ipython3",
   "version": "3.8.3"
  }
 },
 "nbformat": 4,
 "nbformat_minor": 4
}
