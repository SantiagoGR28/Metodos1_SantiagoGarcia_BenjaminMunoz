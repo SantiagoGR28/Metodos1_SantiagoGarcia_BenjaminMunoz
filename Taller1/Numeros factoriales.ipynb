{
 "cells": [
  {
   "cell_type": "code",
   "execution_count": 1,
   "id": "e5ae459e",
   "metadata": {},
   "outputs": [
    {
     "name": "stdout",
     "output_type": "stream",
     "text": [
      "El número factorial de 5 es 120\n"
     ]
    }
   ],
   "source": [
    "#3.1\n",
    "def factorial(numero): \n",
    "    if numero < 0: \n",
    "        print(\"No existe el numero factorial de números negativos\")\n",
    "\n",
    "    elif numero == 0: \n",
    "        return 1\n",
    "        \n",
    "    else: \n",
    "        factorial = 1\n",
    "        while(numero > 1): \n",
    "            factorial *= numero \n",
    "            numero -= 1\n",
    "        return factorial \n",
    "\n",
    "numero = 5; \n",
    "\n",
    "print(\"El número factorial de\",numero,\"es\", factorial(numero)) \n",
    "\n"
   ]
  },
  {
   "cell_type": "code",
   "execution_count": 2,
   "id": "c33e095a",
   "metadata": {},
   "outputs": [
    {
     "name": "stdout",
     "output_type": "stream",
     "text": [
      "120.0\n"
     ]
    }
   ],
   "source": [
    "#3.2\n",
    "def repeticiones(r, n):\n",
    "    \n",
    "    div = factorial(n)\n",
    "    if r < 0: \n",
    "        return(\"No existe el numero factorial de números negativos\")\n",
    "    resta = (n-r)\n",
    "    divs = factorial (resta)\n",
    "    \n",
    "    resultado = div/divs\n",
    "    return resultado\n",
    "    \n",
    "r = 3\n",
    "n = 6\n",
    "\n",
    "print(repeticiones(r, n))"
   ]
  },
  {
   "cell_type": "code",
   "execution_count": 3,
   "id": "7ddca208",
   "metadata": {},
   "outputs": [
    {
     "name": "stdout",
     "output_type": "stream",
     "text": [
      "705432.0\n",
      "352716.0\n"
     ]
    }
   ],
   "source": [
    "#3.3\n",
    "def combinaciones(n, m):\n",
    "    if n > m:\n",
    "        resta = (n - m)\n",
    "        n = factorial(n)\n",
    "        m = factorial (m)\n",
    "        resta = factorial(resta)\n",
    "        resultado = n/(m*(resta))\n",
    "        return(resultado)\n",
    "    else:\n",
    "        return(\"No es posible calcular este resultado.\")\n",
    "    \n",
    "print(combinaciones(22,11))\n",
    "print(combinaciones(21,10))"
   ]
  },
  {
   "cell_type": "code",
   "execution_count": null,
   "id": "778cbe80",
   "metadata": {},
   "outputs": [],
   "source": []
  }
 ],
 "metadata": {
  "kernelspec": {
   "display_name": "Python 3",
   "language": "python",
   "name": "python3"
  },
  "language_info": {
   "codemirror_mode": {
    "name": "ipython",
    "version": 3
   },
   "file_extension": ".py",
   "mimetype": "text/x-python",
   "name": "python",
   "nbconvert_exporter": "python",
   "pygments_lexer": "ipython3",
   "version": "3.8.8"
  }
 },
 "nbformat": 4,
 "nbformat_minor": 5
}
