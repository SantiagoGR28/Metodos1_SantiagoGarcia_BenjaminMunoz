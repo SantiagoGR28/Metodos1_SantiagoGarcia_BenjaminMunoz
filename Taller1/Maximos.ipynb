{
 "cells": [
  {
   "cell_type": "code",
   "execution_count": 17,
   "metadata": {},
   "outputs": [],
   "source": [
    "route=\"lista.dat\"\n",
    "with open(route, \"r\") as file:\n",
    "    lista=file.readlines()\n",
    "\n",
    "lista_coordenadas=[]\n",
    "for coordenadas_string in lista:\n",
    "    coordenadas_string_divididas=coordenadas_string.split(\"  \")\n",
    "    x=float(coordenadas_string_divididas[0])\n",
    "    y=float(coordenadas_string_divididas[1])\n",
    "    coordenadas=[x,y]\n",
    "    lista_coordenadas.append(coordenadas)"
   ]
  },
  {
   "cell_type": "code",
   "execution_count": 21,
   "metadata": {},
   "outputs": [
    {
     "name": "stdout",
     "output_type": "stream",
     "text": [
      "[[3.34767668182031, 1.036267], [3.3591918332968, 1.03554], [3.37070698477328, 1.024369], [3.38222213624977, 1.045406], [3.39373728772626, 1.012803], [3.40525243920275, 1.030349], [3.41676759067923, 1.015571], [3.42828274215572, 1.035833], [3.43979789363221, 1.017348], [3.4513130451087, 1.02287], [3.46666658041068, 1.013802], [3.50505041866564, 1.020233], [3.52424233779312, 1.034254], [3.5357574892696, 1.02666], [3.55111102457159, 1.014296], [3.56262617604807, 1.024395], [3.58949486282655, 1.040716], [3.62020193343051, 1.027063], [3.631717084907, 1.039316], [3.64323223638349, 1.060527], [3.67393930698745, 1.051431], [3.70464637759142, 1.089617], [3.7238382967189, 1.330906], [3.74686859967188, 1.032746], [3.77757567027584, 1.031765], [3.78909082175233, 1.068328], [3.80444435705431, 1.102898], [3.82363627618179, 1.064289], [3.85434334678576, 1.040364], [3.86969688208774, 1.079907], [3.88505041738973, 1.000827], [3.90040395269171, 1.089922], [3.92727263947018, 1.030706], [3.93494940712117, 1.025699], [3.95030294242316, 0.9971942], [3.97333324537613, 1.008569], [3.99636354832911, 1.041762], [4.00787869980559, 1.028908], [4.01939385128208, 1.029255], [4.03858577040956, 1.147828], [4.06929284101353, 1.657519]]\n"
     ]
    }
   ],
   "source": [
    "lista_maximos_locales=[]\n",
    "for i in range(1,len(lista_coordenadas)-1):\n",
    "    coordenada=lista_coordenadas[i]\n",
    "    coordenada_anterior=lista_coordenadas[i-1]\n",
    "    coordenada_siguiente=lista_coordenadas[i+1]\n",
    "    y=coordenada[1]\n",
    "    y_anterior=coordenada_anterior[1]\n",
    "    y_siguiente=coordenada_siguiente[1]\n",
    "    if y>y_anterior and y>y_siguiente:\n",
    "        lista_maximos_locales.append(coordenada)\n",
    "print(lista_maximos_locales)"
   ]
  },
  {
   "cell_type": "code",
   "execution_count": null,
   "metadata": {},
   "outputs": [],
   "source": []
  }
 ],
 "metadata": {
  "kernelspec": {
   "display_name": "Python 3",
   "language": "python",
   "name": "python3"
  },
  "language_info": {
   "codemirror_mode": {
    "name": "ipython",
    "version": 3
   },
   "file_extension": ".py",
   "mimetype": "text/x-python",
   "name": "python",
   "nbconvert_exporter": "python",
   "pygments_lexer": "ipython3",
   "version": "3.8.3"
  }
 },
 "nbformat": 4,
 "nbformat_minor": 4
}
