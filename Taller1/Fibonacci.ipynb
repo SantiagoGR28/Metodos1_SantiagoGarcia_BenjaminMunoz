{
 "cells": [
  {
   "cell_type": "code",
   "execution_count": 3,
   "id": "3b931eb8",
   "metadata": {},
   "outputs": [
    {
     "name": "stdout",
     "output_type": "stream",
     "text": [
      "[0, 1, 1, 2, 3, 5, 8, 13, 21, 34, 55, 89, 144, 233, 377, 610, 987, 1597, 2584, 4181, 6765]\n"
     ]
    }
   ],
   "source": [
    "#5. Sucesión de Fibonacci\n",
    "#5.1\n",
    "def Fibonacci1(n):\n",
    "    if(n==0):\n",
    "        return 0\n",
    "    elif(n==1):\n",
    "        return 1\n",
    "    else:\n",
    "        return (Fibonacci1(n-2)+Fibonacci1(n-1))\n",
    "    \n",
    "def Fibonacci2(n): \n",
    "    lst=[]\n",
    "    for n in range(0, n+1):\n",
    "        lst.append(Fibonacci1(n))\n",
    "    return(lst)\n",
    "        \n",
    "n = 20     \n",
    "print(Fibonacci2(n))"
   ]
  },
  {
   "cell_type": "code",
   "execution_count": 4,
   "id": "55aa335d",
   "metadata": {},
   "outputs": [
    {
     "name": "stdout",
     "output_type": "stream",
     "text": [
      "[ 0  1  2  3  4  5  6  7  8  9 10 11 12 13 14 15 16 17 18 19 20]\n",
      "[0, 1, 1, 2, 3, 5, 8, 13, 21, 34, 55, 89, 144, 233, 377, 610, 987, 1597, 2584, 4181, 6765]\n"
     ]
    },
    {
     "data": {
      "image/png": "[encoded data removed]",
      "text/plain": [
       "<Figure size 432x288 with 1 Axes>"
      ]
     },
     "metadata": {
      "needs_background": "light"
     },
     "output_type": "display_data"
    }
   ],
   "source": [
    "#5.2 Gráfica de sucesión de Fibonacci\n",
    "#n en eje x y f(n) en eje y\n",
    "import matplotlib.pyplot as plt\n",
    "import numpy as np\n",
    "n = 20\n",
    "x= np.arange(0,n+1,1)\n",
    "y= Fibonacci2(n)\n",
    "print(x)\n",
    "print(y)\n",
    "plt.plot(x,y)\n",
    "plt.xlabel('n')\n",
    "plt.ylabel('f(n)')\n",
    "plt.title('Sucesión de Fibonacci')\n",
    "plt.show()"
   ]
  },
  {
   "cell_type": "code",
   "execution_count": null,
   "id": "dba2bb60",
   "metadata": {},
   "outputs": [],
   "source": [
    "#5.3 Número aureo\n",
    "\n",
    "\n",
    "from sympy.interactive import printing\n",
    "from sympy import Limit, limit, Symbol, S\n",
    "\n",
    "x = Fibonacci1(n) + 1\n",
    "y = Fibonacci1(n)\n",
    "n = Symbol('n')\n",
    "print(limit(x/y, n, S.Infinity))"
   ]
  }
 ],
 "metadata": {
  "kernelspec": {
   "display_name": "Python 3",
   "language": "python",
   "name": "python3"
  },
  "language_info": {
   "codemirror_mode": {
    "name": "ipython",
    "version": 3
   },
   "file_extension": ".py",
   "mimetype": "text/x-python",
   "name": "python",
   "nbconvert_exporter": "python",
   "pygments_lexer": "ipython3",
   "version": "3.8.8"
  }
 },
 "nbformat": 4,
 "nbformat_minor": 5
}
